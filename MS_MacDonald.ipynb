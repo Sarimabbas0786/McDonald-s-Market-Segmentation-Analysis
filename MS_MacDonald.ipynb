{
  "cells": [
    {
      "cell_type": "code",
      "execution_count": null,
      "metadata": {
        "colab": {
          "base_uri": "https://localhost:8080/",
          "height": 304
        },
        "id": "St4NE-HgeVM9",
        "outputId": "dd421d02-754f-4798-b6d5-b1e8958b6674"
      },
      "outputs": [
        {
          "data": {
            "text/html": [
              "\n",
              "     <input type=\"file\" id=\"files-7d7f3f7f-50e3-4239-b82b-8ca4920300c2\" name=\"files[]\" multiple disabled\n",
              "        style=\"border:none\" />\n",
              "     <output id=\"result-7d7f3f7f-50e3-4239-b82b-8ca4920300c2\">\n",
              "      Upload widget is only available when the cell has been executed in the\n",
              "      current browser session. Please rerun this cell to enable.\n",
              "      </output>\n",
              "      <script>// Copyright 2017 Google LLC\n",
              "//\n",
              "// Licensed under the Apache License, Version 2.0 (the \"License\");\n",
              "// you may not use this file except in compliance with the License.\n",
              "// You may obtain a copy of the License at\n",
              "//\n",
              "//      http://www.apache.org/licenses/LICENSE-2.0\n",
              "//\n",
              "// Unless required by applicable law or agreed to in writing, software\n",
              "// distributed under the License is distributed on an \"AS IS\" BASIS,\n",
              "// WITHOUT WARRANTIES OR CONDITIONS OF ANY KIND, either express or implied.\n",
              "// See the License for the specific language governing permissions and\n",
              "// limitations under the License.\n",
              "\n",
              "/**\n",
              " * @fileoverview Helpers for google.colab Python module.\n",
              " */\n",
              "(function(scope) {\n",
              "function span(text, styleAttributes = {}) {\n",
              "  const element = document.createElement('span');\n",
              "  element.textContent = text;\n",
              "  for (const key of Object.keys(styleAttributes)) {\n",
              "    element.style[key] = styleAttributes[key];\n",
              "  }\n",
              "  return element;\n",
              "}\n",
              "\n",
              "// Max number of bytes which will be uploaded at a time.\n",
              "const MAX_PAYLOAD_SIZE = 100 * 1024;\n",
              "\n",
              "function _uploadFiles(inputId, outputId) {\n",
              "  const steps = uploadFilesStep(inputId, outputId);\n",
              "  const outputElement = document.getElementById(outputId);\n",
              "  // Cache steps on the outputElement to make it available for the next call\n",
              "  // to uploadFilesContinue from Python.\n",
              "  outputElement.steps = steps;\n",
              "\n",
              "  return _uploadFilesContinue(outputId);\n",
              "}\n",
              "\n",
              "// This is roughly an async generator (not supported in the browser yet),\n",
              "// where there are multiple asynchronous steps and the Python side is going\n",
              "// to poll for completion of each step.\n",
              "// This uses a Promise to block the python side on completion of each step,\n",
              "// then passes the result of the previous step as the input to the next step.\n",
              "function _uploadFilesContinue(outputId) {\n",
              "  const outputElement = document.getElementById(outputId);\n",
              "  const steps = outputElement.steps;\n",
              "\n",
              "  const next = steps.next(outputElement.lastPromiseValue);\n",
              "  return Promise.resolve(next.value.promise).then((value) => {\n",
              "    // Cache the last promise value to make it available to the next\n",
              "    // step of the generator.\n",
              "    outputElement.lastPromiseValue = value;\n",
              "    return next.value.response;\n",
              "  });\n",
              "}\n",
              "\n",
              "/**\n",
              " * Generator function which is called between each async step of the upload\n",
              " * process.\n",
              " * @param {string} inputId Element ID of the input file picker element.\n",
              " * @param {string} outputId Element ID of the output display.\n",
              " * @return {!Iterable<!Object>} Iterable of next steps.\n",
              " */\n",
              "function* uploadFilesStep(inputId, outputId) {\n",
              "  const inputElement = document.getElementById(inputId);\n",
              "  inputElement.disabled = false;\n",
              "\n",
              "  const outputElement = document.getElementById(outputId);\n",
              "  outputElement.innerHTML = '';\n",
              "\n",
              "  const pickedPromise = new Promise((resolve) => {\n",
              "    inputElement.addEventListener('change', (e) => {\n",
              "      resolve(e.target.files);\n",
              "    });\n",
              "  });\n",
              "\n",
              "  const cancel = document.createElement('button');\n",
              "  inputElement.parentElement.appendChild(cancel);\n",
              "  cancel.textContent = 'Cancel upload';\n",
              "  const cancelPromise = new Promise((resolve) => {\n",
              "    cancel.onclick = () => {\n",
              "      resolve(null);\n",
              "    };\n",
              "  });\n",
              "\n",
              "  // Wait for the user to pick the files.\n",
              "  const files = yield {\n",
              "    promise: Promise.race([pickedPromise, cancelPromise]),\n",
              "    response: {\n",
              "      action: 'starting',\n",
              "    }\n",
              "  };\n",
              "\n",
              "  cancel.remove();\n",
              "\n",
              "  // Disable the input element since further picks are not allowed.\n",
              "  inputElement.disabled = true;\n",
              "\n",
              "  if (!files) {\n",
              "    return {\n",
              "      response: {\n",
              "        action: 'complete',\n",
              "      }\n",
              "    };\n",
              "  }\n",
              "\n",
              "  for (const file of files) {\n",
              "    const li = document.createElement('li');\n",
              "    li.append(span(file.name, {fontWeight: 'bold'}));\n",
              "    li.append(span(\n",
              "        `(${file.type || 'n/a'}) - ${file.size} bytes, ` +\n",
              "        `last modified: ${\n",
              "            file.lastModifiedDate ? file.lastModifiedDate.toLocaleDateString() :\n",
              "                                    'n/a'} - `));\n",
              "    const percent = span('0% done');\n",
              "    li.appendChild(percent);\n",
              "\n",
              "    outputElement.appendChild(li);\n",
              "\n",
              "    const fileDataPromise = new Promise((resolve) => {\n",
              "      const reader = new FileReader();\n",
              "      reader.onload = (e) => {\n",
              "        resolve(e.target.result);\n",
              "      };\n",
              "      reader.readAsArrayBuffer(file);\n",
              "    });\n",
              "    // Wait for the data to be ready.\n",
              "    let fileData = yield {\n",
              "      promise: fileDataPromise,\n",
              "      response: {\n",
              "        action: 'continue',\n",
              "      }\n",
              "    };\n",
              "\n",
              "    // Use a chunked sending to avoid message size limits. See b/62115660.\n",
              "    let position = 0;\n",
              "    do {\n",
              "      const length = Math.min(fileData.byteLength - position, MAX_PAYLOAD_SIZE);\n",
              "      const chunk = new Uint8Array(fileData, position, length);\n",
              "      position += length;\n",
              "\n",
              "      const base64 = btoa(String.fromCharCode.apply(null, chunk));\n",
              "      yield {\n",
              "        response: {\n",
              "          action: 'append',\n",
              "          file: file.name,\n",
              "          data: base64,\n",
              "        },\n",
              "      };\n",
              "\n",
              "      let percentDone = fileData.byteLength === 0 ?\n",
              "          100 :\n",
              "          Math.round((position / fileData.byteLength) * 100);\n",
              "      percent.textContent = `${percentDone}% done`;\n",
              "\n",
              "    } while (position < fileData.byteLength);\n",
              "  }\n",
              "\n",
              "  // All done.\n",
              "  yield {\n",
              "    response: {\n",
              "      action: 'complete',\n",
              "    }\n",
              "  };\n",
              "}\n",
              "\n",
              "scope.google = scope.google || {};\n",
              "scope.google.colab = scope.google.colab || {};\n",
              "scope.google.colab._files = {\n",
              "  _uploadFiles,\n",
              "  _uploadFilesContinue,\n",
              "};\n",
              "})(self);\n",
              "</script> "
            ],
            "text/plain": [
              "<IPython.core.display.HTML object>"
            ]
          },
          "metadata": {},
          "output_type": "display_data"
        },
        {
          "name": "stdout",
          "output_type": "stream",
          "text": [
            "Saving mcdonalds.csv to mcdonalds.csv\n",
            "  yummy convenient spicy fattening greasy fast cheap tasty expensive healthy  \\\n",
            "0    No        Yes    No       Yes     No  Yes   Yes    No       Yes      No   \n",
            "1   Yes        Yes    No       Yes    Yes  Yes   Yes   Yes       Yes      No   \n",
            "2    No        Yes   Yes       Yes    Yes  Yes    No   Yes       Yes     Yes   \n",
            "3   Yes        Yes    No       Yes    Yes  Yes   Yes   Yes        No      No   \n",
            "4    No        Yes    No       Yes    Yes  Yes   Yes    No        No     Yes   \n",
            "\n",
            "  disgusting Like  Age      VisitFrequency  Gender  \n",
            "0         No   -3   61  Every three months  Female  \n",
            "1         No   +2   51  Every three months  Female  \n",
            "2         No   +1   62  Every three months  Female  \n",
            "3        Yes   +4   69         Once a week  Female  \n",
            "4         No   +2   49        Once a month    Male  \n"
          ]
        }
      ],
      "source": [
        "import pandas as pd\n",
        "from google.colab import files\n",
        "\n",
        "# Step 1: Upload the CSV file\n",
        "uploaded = files.upload()\n",
        "\n",
        "# Step 2: Load the CSV into a pandas DataFrame\n",
        "mcdonalds = pd.read_csv(list(uploaded.keys())[0])\n",
        "\n",
        "# Step 3: Display the first few rows to verify it's loaded correctly\n",
        "print(mcdonalds.head())\n"
      ]
    },
    {
      "cell_type": "code",
      "execution_count": null,
      "metadata": {
        "colab": {
          "base_uri": "https://localhost:8080/"
        },
        "id": "Hj77xIYceyG8",
        "outputId": "c5c08b73-3d3d-4be4-df8d-2f0a286a2543"
      },
      "outputs": [
        {
          "name": "stdout",
          "output_type": "stream",
          "text": [
            "Segment column not found.\n"
          ]
        }
      ],
      "source": [
        "# Check if the 'Segment' column exists\n",
        "if 'Segment' in mcdonalds.columns:\n",
        "    print(\"Segment column found!\")\n",
        "else:\n",
        "    print(\"Segment column not found.\")\n"
      ]
    },
    {
      "cell_type": "code",
      "execution_count": null,
      "metadata": {
        "colab": {
          "base_uri": "https://localhost:8080/"
        },
        "id": "sI905uaFfLbZ",
        "outputId": "fcdcd96c-2613-406d-ac0b-ae1a8f59f5f6"
      },
      "outputs": [
        {
          "name": "stdout",
          "output_type": "stream",
          "text": [
            "  yummy convenient spicy fattening greasy fast cheap tasty expensive healthy  \\\n",
            "0    No        Yes    No       Yes     No  Yes   Yes    No       Yes      No   \n",
            "1   Yes        Yes    No       Yes    Yes  Yes   Yes   Yes       Yes      No   \n",
            "2    No        Yes   Yes       Yes    Yes  Yes    No   Yes       Yes     Yes   \n",
            "3   Yes        Yes    No       Yes    Yes  Yes   Yes   Yes        No      No   \n",
            "4    No        Yes    No       Yes    Yes  Yes   Yes    No        No     Yes   \n",
            "\n",
            "  disgusting Like  Age      VisitFrequency  Gender  Segment  \n",
            "0         No   -3   61  Every three months  Female        2  \n",
            "1         No   +2   51  Every three months  Female        3  \n",
            "2         No   +1   62  Every three months  Female        3  \n",
            "3        Yes   +4   69         Once a week  Female        0  \n",
            "4         No   +2   49        Once a month    Male        2  \n"
          ]
        },
        {
          "name": "stderr",
          "output_type": "stream",
          "text": [
            "<ipython-input-3-7a16bc2e2916>:6: FutureWarning: DataFrame.applymap has been deprecated. Use DataFrame.map instead.\n",
            "  mcdonalds_binary = mcdonalds[binary_columns].applymap(lambda x: 1 if x == 'Yes' else 0)\n"
          ]
        }
      ],
      "source": [
        "from sklearn.cluster import KMeans\n",
        "import pandas as pd\n",
        "\n",
        "# Convert 'Yes'/'No' responses to binary 1/0 values\n",
        "binary_columns = ['yummy', 'convenient', 'spicy', 'fattening', 'greasy', 'fast', 'cheap', 'tasty', 'expensive', 'healthy', 'disgusting']\n",
        "mcdonalds_binary = mcdonalds[binary_columns].applymap(lambda x: 1 if x == 'Yes' else 0)\n",
        "\n",
        "# Apply k-means clustering (let's assume 4 clusters for now)\n",
        "kmeans = KMeans(n_clusters=4, random_state=1234)\n",
        "mcdonalds['Segment'] = kmeans.fit_predict(mcdonalds_binary)\n",
        "\n",
        "# Display the first few rows to check segment assignment\n",
        "print(mcdonalds.head())\n"
      ]
    },
    {
      "cell_type": "code",
      "execution_count": 17,
      "metadata": {
        "colab": {
          "base_uri": "https://localhost:8080/"
        },
        "id": "xaI-b29sfWAA",
        "outputId": "40664fd0-efe3-4284-d11a-7e35e3a02050"
      },
      "outputs": [
        {
          "output_type": "stream",
          "name": "stdout",
          "text": [
            "               Age\n",
            "Segment           \n",
            "0        43.470690\n",
            "1        48.087719\n",
            "2        48.990683\n",
            "3        39.811146\n"
          ]
        }
      ],
      "source": [
        "# Select only numeric columns for mean calculation (e.g., Age)\n",
        "numeric_columns = ['Age']\n",
        "\n",
        "# Calculate the mean for numeric columns only, grouped by Segment\n",
        "segment_summary = mcdonalds.groupby('Segment')[numeric_columns].mean()\n",
        "print(segment_summary)\n"
      ]
    },
    {
      "cell_type": "code",
      "source": [
        "# Count how many people in each segment like/dislike McDonald's\n",
        "like_summary = mcdonalds.groupby('Segment')['Like'].value_counts()\n",
        "print(like_summary)\n"
      ],
      "metadata": {
        "colab": {
          "base_uri": "https://localhost:8080/"
        },
        "id": "Xcn93R4SnCJS",
        "outputId": "3ee0a2f1-424e-45bb-e78e-124f2e8dfc34"
      },
      "execution_count": 18,
      "outputs": [
        {
          "output_type": "stream",
          "name": "stdout",
          "text": [
            "Segment  Like        \n",
            "0        +3              143\n",
            "         +4              111\n",
            "         I love it!+5     99\n",
            "         +2               90\n",
            "         +1               65\n",
            "         0                43\n",
            "         -1               13\n",
            "         -2                6\n",
            "         -4                4\n",
            "         I hate it!-5      4\n",
            "         -3                2\n",
            "1        I hate it!-5     84\n",
            "         0                35\n",
            "         -4               28\n",
            "         -3               27\n",
            "         -2               16\n",
            "         +1               13\n",
            "         -1               11\n",
            "         +3                9\n",
            "         +2                5\n",
            "2        I hate it!-5     59\n",
            "         0                55\n",
            "         -3               37\n",
            "         -4               36\n",
            "         +1               32\n",
            "         +2               32\n",
            "         -2               31\n",
            "         -1               27\n",
            "         +3               11\n",
            "         +4                2\n",
            "3        +3               66\n",
            "         +2               60\n",
            "         +4               47\n",
            "         I love it!+5     44\n",
            "         +1               42\n",
            "         0                36\n",
            "         -1                7\n",
            "         -3                7\n",
            "         -2                6\n",
            "         I hate it!-5      5\n",
            "         -4                3\n",
            "Name: count, dtype: int64\n"
          ]
        }
      ]
    },
    {
      "cell_type": "code",
      "source": [
        "# Count how many males and females are in each segment\n",
        "gender_summary = mcdonalds.groupby('Segment')['Gender'].value_counts()\n",
        "print(gender_summary)\n"
      ],
      "metadata": {
        "colab": {
          "base_uri": "https://localhost:8080/"
        },
        "id": "6u2zCFVPnHDh",
        "outputId": "ee0696bc-6409-4e60-aa11-fa0e3002a4e4"
      },
      "execution_count": 19,
      "outputs": [
        {
          "output_type": "stream",
          "name": "stdout",
          "text": [
            "Segment  Gender\n",
            "0        Female    349\n",
            "         Male      231\n",
            "1        Male      132\n",
            "         Female     96\n",
            "2        Female    189\n",
            "         Male      133\n",
            "3        Male      169\n",
            "         Female    154\n",
            "Name: count, dtype: int64\n"
          ]
        }
      ]
    },
    {
      "cell_type": "code",
      "source": [
        "import seaborn as sns\n",
        "import matplotlib.pyplot as plt\n",
        "\n",
        "# Bar plot of McDonald's liking per segment\n",
        "plt.figure(figsize=(10, 6))\n",
        "sns.countplot(data=mcdonalds, x='Segment', hue='Like', palette='viridis')\n",
        "plt.ylabel('Count')\n",
        "plt.xlabel('Segment')\n",
        "plt.title('Segment Profiles by Liking McDonald\\'s')\n",
        "plt.legend(title='Like McDonald\\'s')\n",
        "plt.show()\n"
      ],
      "metadata": {
        "colab": {
          "base_uri": "https://localhost:8080/",
          "height": 966
        },
        "id": "0FtvduKmnJxf",
        "outputId": "184d2938-9ddd-442c-bfdf-7e3f80010909"
      },
      "execution_count": 20,
      "outputs": [
        {
          "output_type": "stream",
          "name": "stderr",
          "text": [
            "/usr/local/lib/python3.10/dist-packages/seaborn/_base.py:949: FutureWarning: When grouping with a length-1 list-like, you will need to pass a length-1 tuple to get_group in a future version of pandas. Pass `(name,)` instead of `name` to silence this warning.\n",
            "  data_subset = grouped_data.get_group(pd_key)\n",
            "/usr/local/lib/python3.10/dist-packages/seaborn/_base.py:949: FutureWarning: When grouping with a length-1 list-like, you will need to pass a length-1 tuple to get_group in a future version of pandas. Pass `(name,)` instead of `name` to silence this warning.\n",
            "  data_subset = grouped_data.get_group(pd_key)\n",
            "/usr/local/lib/python3.10/dist-packages/seaborn/_base.py:949: FutureWarning: When grouping with a length-1 list-like, you will need to pass a length-1 tuple to get_group in a future version of pandas. Pass `(name,)` instead of `name` to silence this warning.\n",
            "  data_subset = grouped_data.get_group(pd_key)\n",
            "/usr/local/lib/python3.10/dist-packages/seaborn/_base.py:949: FutureWarning: When grouping with a length-1 list-like, you will need to pass a length-1 tuple to get_group in a future version of pandas. Pass `(name,)` instead of `name` to silence this warning.\n",
            "  data_subset = grouped_data.get_group(pd_key)\n",
            "/usr/local/lib/python3.10/dist-packages/seaborn/_base.py:949: FutureWarning: When grouping with a length-1 list-like, you will need to pass a length-1 tuple to get_group in a future version of pandas. Pass `(name,)` instead of `name` to silence this warning.\n",
            "  data_subset = grouped_data.get_group(pd_key)\n",
            "/usr/local/lib/python3.10/dist-packages/seaborn/_base.py:949: FutureWarning: When grouping with a length-1 list-like, you will need to pass a length-1 tuple to get_group in a future version of pandas. Pass `(name,)` instead of `name` to silence this warning.\n",
            "  data_subset = grouped_data.get_group(pd_key)\n",
            "/usr/local/lib/python3.10/dist-packages/seaborn/_base.py:949: FutureWarning: When grouping with a length-1 list-like, you will need to pass a length-1 tuple to get_group in a future version of pandas. Pass `(name,)` instead of `name` to silence this warning.\n",
            "  data_subset = grouped_data.get_group(pd_key)\n",
            "/usr/local/lib/python3.10/dist-packages/seaborn/_base.py:949: FutureWarning: When grouping with a length-1 list-like, you will need to pass a length-1 tuple to get_group in a future version of pandas. Pass `(name,)` instead of `name` to silence this warning.\n",
            "  data_subset = grouped_data.get_group(pd_key)\n",
            "/usr/local/lib/python3.10/dist-packages/seaborn/_base.py:949: FutureWarning: When grouping with a length-1 list-like, you will need to pass a length-1 tuple to get_group in a future version of pandas. Pass `(name,)` instead of `name` to silence this warning.\n",
            "  data_subset = grouped_data.get_group(pd_key)\n",
            "/usr/local/lib/python3.10/dist-packages/seaborn/_base.py:949: FutureWarning: When grouping with a length-1 list-like, you will need to pass a length-1 tuple to get_group in a future version of pandas. Pass `(name,)` instead of `name` to silence this warning.\n",
            "  data_subset = grouped_data.get_group(pd_key)\n",
            "/usr/local/lib/python3.10/dist-packages/seaborn/_base.py:949: FutureWarning: When grouping with a length-1 list-like, you will need to pass a length-1 tuple to get_group in a future version of pandas. Pass `(name,)` instead of `name` to silence this warning.\n",
            "  data_subset = grouped_data.get_group(pd_key)\n"
          ]
        },
        {
          "output_type": "display_data",
          "data": {
            "text/plain": [
              "<Figure size 1000x600 with 1 Axes>"
            ],
            "image/png": "[encoded data removed]"
          },
          "metadata": {}
        }
      ]
    },
    {
      "cell_type": "markdown",
      "source": [
        "Summary of Findings\n",
        "\n",
        " Bar Plot of McDonald's Liking by Segment\n",
        "\n",
        "Segment 2:\n",
        "\n",
        "Highest Count: Indicates a strong preference for McDonald's, especially in the \"love it\" category (+5).\n",
        "\n",
        "Implication: This segment can be targeted for promotional offers or loyalty programs, leveraging their favorable attitude towards the brand.\n",
        "\n",
        "Segment 1:\n",
        "\n",
        "\n",
        "Lowest Count: A significant number of people in the \"hate it\" category (-5).\n",
        "\n",
        "Implication: This segment may require targeted campaigns to address their concerns or to reposition products that could appeal to them.\n",
        "\n",
        "Trends:\n",
        "\n",
        "Segment 0 and Segment 3: Balanced distributions suggest mixed feelings about McDonald's.\n",
        "\n",
        "Segment 1: Strong inclination towards disliking, indicating potential challenges.\n",
        "\n",
        "Segment 2: Favorable inclination, making it a priority for marketing strategies."
      ],
      "metadata": {
        "id": "hofyLzwRpHGd"
      }
    },
    {
      "cell_type": "code",
      "source": [
        "# Box plot for Age distribution by Segment\n",
        "plt.figure(figsize=(10, 6))\n",
        "sns.boxplot(data=mcdonalds, x='Segment', y='Age', palette='viridis')\n",
        "plt.ylabel('Age')\n",
        "plt.xlabel('Segment')\n",
        "plt.title('Age Distribution by Segment')\n",
        "plt.show()\n"
      ],
      "metadata": {
        "colab": {
          "base_uri": "https://localhost:8080/",
          "height": 949
        },
        "id": "xmcP326nnOXc",
        "outputId": "849f755d-1a0c-462f-9440-df523cf17ff3"
      },
      "execution_count": 21,
      "outputs": [
        {
          "output_type": "stream",
          "name": "stderr",
          "text": [
            "<ipython-input-21-5d020fd6f200>:3: FutureWarning: \n",
            "\n",
            "Passing `palette` without assigning `hue` is deprecated and will be removed in v0.14.0. Assign the `x` variable to `hue` and set `legend=False` for the same effect.\n",
            "\n",
            "  sns.boxplot(data=mcdonalds, x='Segment', y='Age', palette='viridis')\n",
            "/usr/local/lib/python3.10/dist-packages/seaborn/_base.py:949: FutureWarning: When grouping with a length-1 list-like, you will need to pass a length-1 tuple to get_group in a future version of pandas. Pass `(name,)` instead of `name` to silence this warning.\n",
            "  data_subset = grouped_data.get_group(pd_key)\n",
            "/usr/local/lib/python3.10/dist-packages/seaborn/categorical.py:640: FutureWarning: SeriesGroupBy.grouper is deprecated and will be removed in a future version of pandas.\n",
            "  positions = grouped.grouper.result_index.to_numpy(dtype=float)\n",
            "/usr/local/lib/python3.10/dist-packages/seaborn/_base.py:949: FutureWarning: When grouping with a length-1 list-like, you will need to pass a length-1 tuple to get_group in a future version of pandas. Pass `(name,)` instead of `name` to silence this warning.\n",
            "  data_subset = grouped_data.get_group(pd_key)\n",
            "/usr/local/lib/python3.10/dist-packages/seaborn/categorical.py:640: FutureWarning: SeriesGroupBy.grouper is deprecated and will be removed in a future version of pandas.\n",
            "  positions = grouped.grouper.result_index.to_numpy(dtype=float)\n",
            "/usr/local/lib/python3.10/dist-packages/seaborn/_base.py:949: FutureWarning: When grouping with a length-1 list-like, you will need to pass a length-1 tuple to get_group in a future version of pandas. Pass `(name,)` instead of `name` to silence this warning.\n",
            "  data_subset = grouped_data.get_group(pd_key)\n",
            "/usr/local/lib/python3.10/dist-packages/seaborn/categorical.py:640: FutureWarning: SeriesGroupBy.grouper is deprecated and will be removed in a future version of pandas.\n",
            "  positions = grouped.grouper.result_index.to_numpy(dtype=float)\n",
            "/usr/local/lib/python3.10/dist-packages/seaborn/_base.py:949: FutureWarning: When grouping with a length-1 list-like, you will need to pass a length-1 tuple to get_group in a future version of pandas. Pass `(name,)` instead of `name` to silence this warning.\n",
            "  data_subset = grouped_data.get_group(pd_key)\n",
            "/usr/local/lib/python3.10/dist-packages/seaborn/categorical.py:640: FutureWarning: SeriesGroupBy.grouper is deprecated and will be removed in a future version of pandas.\n",
            "  positions = grouped.grouper.result_index.to_numpy(dtype=float)\n"
          ]
        },
        {
          "output_type": "display_data",
          "data": {
            "text/plain": [
              "<Figure size 1000x600 with 1 Axes>"
            ],
            "image/png": "[encoded data removed]"
          },
          "metadata": {}
        }
      ]
    },
    {
      "cell_type": "markdown",
      "source": [
        "Box Plot of Age Distribution by Segment\n",
        "\n",
        "Median Ages:\n",
        "\n",
        "Segment 0: Median age around 30 years, targeting younger demographics.\n",
        "\n",
        "Segment 1: Median age close to 35 years, slightly older.\n",
        "\n",
        "Segment 2: Median age approximately 45 years, indicating a middle-aged\n",
        "demographic that may have different preferences.\n",
        "\n",
        "Segment 3: Median age around 55 years, reflecting an older customer base.\n",
        "Outliers and Age Range:\n",
        "\n",
        "Segment 0: Wide age range, appealing to diverse age groups.\n",
        "\n",
        "Segment 1: Similar range, but no significant outliers.\n",
        "\n",
        "Segment 2: Narrower age range, suggesting a more homogeneous group.\n",
        "\n",
        "Segment 3: Diverse age range with potential outliers, indicating varied customer preferences.\n",
        "\n",
        "Implication: Understanding the age profiles helps in customizing marketing messages and product offerings to align with the preferences of each segment.\n",
        "\n"
      ],
      "metadata": {
        "id": "uAh3JJeZn8da"
      }
    },
    {
      "cell_type": "code",
      "source": [
        "# Bar plot for Gender distribution by Segment\n",
        "plt.figure(figsize=(10, 6))\n",
        "sns.countplot(data=mcdonalds, x='Segment', hue='Gender', palette='viridis')\n",
        "plt.ylabel('Count')\n",
        "plt.xlabel('Segment')\n",
        "plt.title('Gender Distribution by Segment')\n",
        "plt.legend(title='Gender')\n",
        "plt.show()\n"
      ],
      "metadata": {
        "colab": {
          "base_uri": "https://localhost:8080/",
          "height": 653
        },
        "id": "R79abo-qnRVS",
        "outputId": "b1df141b-8736-4a71-db64-323dc59fdedd"
      },
      "execution_count": 22,
      "outputs": [
        {
          "output_type": "stream",
          "name": "stderr",
          "text": [
            "/usr/local/lib/python3.10/dist-packages/seaborn/_base.py:949: FutureWarning: When grouping with a length-1 list-like, you will need to pass a length-1 tuple to get_group in a future version of pandas. Pass `(name,)` instead of `name` to silence this warning.\n",
            "  data_subset = grouped_data.get_group(pd_key)\n",
            "/usr/local/lib/python3.10/dist-packages/seaborn/_base.py:949: FutureWarning: When grouping with a length-1 list-like, you will need to pass a length-1 tuple to get_group in a future version of pandas. Pass `(name,)` instead of `name` to silence this warning.\n",
            "  data_subset = grouped_data.get_group(pd_key)\n"
          ]
        },
        {
          "output_type": "display_data",
          "data": {
            "text/plain": [
              "<Figure size 1000x600 with 1 Axes>"
            ],
            "image/png": "[encoded data removed]"
          },
          "metadata": {}
        }
      ]
    },
    {
      "cell_type": "markdown",
      "source": [
        "Bar Plot of Gender Distribution by Segment\n",
        "\n",
        "Segment 0: Higher count of males, indicating a potential target for male-oriented marketing campaigns.\n",
        "\n",
        "Segments 1 and 2: Gender distributions are nearly equal, suggesting that marketing strategies should be inclusive and consider both genders.\n",
        "\n",
        "Segment 3: Balanced counts with slight male predominance, indicating that marketing could also be tailored to resonate with both genders."
      ],
      "metadata": {
        "id": "hhBAnMe0pC7L"
      }
    },
    {
      "cell_type": "code",
      "source": [],
      "metadata": {
        "id": "X7iFVJvdnUdE"
      },
      "execution_count": null,
      "outputs": []
    }
  ],
  "metadata": {
    "colab": {
      "provenance": []
    },
    "kernelspec": {
      "display_name": "Python 3",
      "name": "python3"
    },
    "language_info": {
      "name": "python"
    }
  },
  "nbformat": 4,
  "nbformat_minor": 0
}